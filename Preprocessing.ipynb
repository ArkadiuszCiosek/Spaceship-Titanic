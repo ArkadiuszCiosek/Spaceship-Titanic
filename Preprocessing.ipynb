{
 "cells": [
  {
   "cell_type": "code",
   "execution_count": 54,
   "metadata": {},
   "outputs": [],
   "source": [
    "import pandas as pd\n",
    "import numpy as np\n",
    "import sklearn as sns\n",
    "from sklearn.impute import SimpleImputer\n",
    "from sklearn.preprocessing import OneHotEncoder\n",
    "from sklearn.utils import shuffle"
   ]
  },
  {
   "cell_type": "code",
   "execution_count": 9,
   "metadata": {},
   "outputs": [
    {
     "data": {
      "text/plain": [
       "True"
      ]
     },
     "execution_count": 9,
     "metadata": {},
     "output_type": "execute_result"
    }
   ],
   "source": [
    "raw_data = pd.read_csv(\"Data/train.csv\")\n",
    "raw_data.head()\n",
    "\n",
    "fNames = pd.read_csv(\"Data/female_names.csv\")\n",
    "fNames=fNames['name']\n",
    "mNames = pd.read_csv(\"Data/male_names.csv\")\n",
    "mNames=mNames['name']\n",
    "\n"
   ]
  },
  {
   "cell_type": "code",
   "execution_count": 15,
   "metadata": {},
   "outputs": [],
   "source": [
    "df=raw_data.copy()\n",
    "# Converting Booleans to numerical values\n",
    "df[\"Transported\"] = df[\"Transported\"].astype(int)\n",
    "df.replace({False: int(0), True: int(1)}, inplace=True)\n",
    "\n",
    "#Sums up expenses for luxury attractions for the passenger\n",
    "df[\"Expenses\"]=df[\"RoomService\"]+ df[\"FoodCourt\"]+df[\"ShoppingMall\"]+ df[\"Spa\"]+ df[\"VRDeck\"]\n",
    "\n",
    "#I separate the number of the passenger group and information about his cabin\n",
    "df[['Group','Number']] = df.PassengerId.str.split(pat='_', expand=True).astype(int)\n",
    "df[['DeckC','NumberC', 'SideC']] = df.Cabin.str.split(pat='/', expand=True)\n",
    "\n"
   ]
  },
  {
   "cell_type": "code",
   "execution_count": 53,
   "metadata": {},
   "outputs": [],
   "source": [
    "df=df[['PassengerId','HomePlanet', 'CryoSleep', 'Destination', 'Age', 'VIP','Name','Expenses', 'Group', 'Number',\n",
    "       'DeckC', 'NumberC', 'SideC', 'Transported' ]].copy()\n",
    "\n",
    "#Looking for gender of passengers. \n",
    "\n",
    "df['name'] = df['Name'].str.split().str[0].str.upper()\n",
    "df['lastCharName'] = df['Name'].str.split().str[0].str[-1]\n",
    "\n",
    "# If last char passenger name == a then SeXW = 1 ( pessenger probably is women) else passenger should be men\n",
    "\n",
    "df['SexW'] = np.where(np.logical_or(df['name'].isin(fNames.values) ,df2['lastCharName'] == 'a') , 1, 0)\n",
    "\n",
    "impF = SimpleImputer(strategy=\"most_frequent\")\n",
    "df[['HomePlanet']] = impF.fit_transform(df[['HomePlanet']])\n",
    "df[['CryoSleep']] = impF.fit_transform(df[['CryoSleep']])\n",
    "df[['Destination']] = impF.fit_transform(df[['Destination']])\n",
    "df[['VIP']] = impF.fit_transform(df[['VIP']])\n",
    "df[['SideC']] = impF.fit_transform(df[['SideC']])\n",
    "df[['DeckC']] = impF.fit_transform(df[['DeckC']])\n",
    "\n",
    "impM = SimpleImputer(strategy=\"mean\")\n",
    "df[['Age']] = impM.fit_transform(df[['Age']])\n",
    "df[['Expenses']] = impM.fit_transform(df[['Expenses']])\n",
    "df[['NumberC']] = impM.fit_transform(df[['NumberC']])\n",
    "\n",
    "df=df.drop(['Name', 'name', 'lastCharName'], axis=1)\n"
   ]
  },
  {
   "cell_type": "code",
   "execution_count": 56,
   "metadata": {},
   "outputs": [],
   "source": [
    "#Handling with categorical data\n",
    "\n",
    "ohe = OneHotEncoder(drop='first')\n",
    "\n",
    "dfPlanet=ohe.fit_transform(df[['HomePlanet']])\n",
    "df[ohe.get_feature_names_out()] = dfPlanet.toarray()\n",
    "\n",
    "dfDestination=ohe.fit_transform(df[['Destination']])\n",
    "df[ohe.get_feature_names_out()] = dfPlanet.toarray()\n",
    "\n",
    "dfSideC=ohe.fit_transform(df[['SideC']])\n",
    "df[ohe.get_feature_names_out()] = dfSideC.toarray()\n",
    "\n",
    "dfDeckC=ohe.fit_transform(df[['DeckC']])\n",
    "df[ohe.get_feature_names_out()] = dfDeckC.toarray()\n",
    "\n",
    "shuffle(df, random_state=42)\n",
    "\n",
    "prep_data=df.drop(columns=['PassengerId','DeckC', 'HomePlanet', 'Destination', 'SideC'], axis=1)\n",
    "\n",
    "\n",
    "prep_data.head()\n",
    "prep_data.to_csv('Data/train_preprocessed.csv', index=False)"
   ]
  },
  {
   "cell_type": "markdown",
   "metadata": {},
   "source": []
  },
  {
   "cell_type": "code",
   "execution_count": null,
   "metadata": {},
   "outputs": [],
   "source": []
  }
 ],
 "metadata": {
  "kernelspec": {
   "display_name": "Python 3.9.12 ('base')",
   "language": "python",
   "name": "python3"
  },
  "language_info": {
   "codemirror_mode": {
    "name": "ipython",
    "version": 3
   },
   "file_extension": ".py",
   "mimetype": "text/x-python",
   "name": "python",
   "nbconvert_exporter": "python",
   "pygments_lexer": "ipython3",
   "version": "3.9.12"
  },
  "orig_nbformat": 4,
  "vscode": {
   "interpreter": {
    "hash": "ad2bdc8ecc057115af97d19610ffacc2b4e99fae6737bb82f5d7fb13d2f2c186"
   }
  }
 },
 "nbformat": 4,
 "nbformat_minor": 2
}
