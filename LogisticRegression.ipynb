{
 "cells": [
  {
   "cell_type": "code",
   "execution_count": 1,
   "metadata": {},
   "outputs": [],
   "source": [
    "import pandas as pd\n",
    "import numpy as np\n",
    "import sklearn as sns\n",
    "import seaborn as sns\n",
    "import matplotlib.pyplot as plt\n",
    "from sklearn.utils import shuffle\n",
    "from sklearn import preprocessing, svm\n",
    "\n",
    "from sklearn.model_selection import train_test_split\n",
    "from sklearn.preprocessing import StandardScaler\n",
    "from sklearn.linear_model import LogisticRegression\n"
   ]
  },
  {
   "cell_type": "code",
   "execution_count": 203,
   "metadata": {},
   "outputs": [],
   "source": [
    "df = pd.read_csv(\"Data/train_preprocessed.csv\")\n",
    "\n"
   ]
  },
  {
   "cell_type": "code",
   "execution_count": 206,
   "metadata": {},
   "outputs": [],
   "source": [
    "\n",
    "#Scaling data\n",
    "tmp_x=df.drop('Transported', axis=1).copy()\n",
    "scaler = StandardScaler()\n",
    "df_scaled = scaler.fit_transform(tmp_x)\n",
    "\n"
   ]
  },
  {
   "cell_type": "code",
   "execution_count": 207,
   "metadata": {},
   "outputs": [],
   "source": [
    "x=df_scaled.copy()\n",
    "\n",
    "\n",
    "y=df['Transported']\n",
    "X_train, X_test, y_train, y_test = train_test_split(x, y, test_size = 0.1)\n",
    "\n"
   ]
  },
  {
   "cell_type": "code",
   "execution_count": 208,
   "metadata": {},
   "outputs": [
    {
     "data": {
      "text/plain": [
       "0.7379310344827587"
      ]
     },
     "execution_count": 208,
     "metadata": {},
     "output_type": "execute_result"
    }
   ],
   "source": [
    "regr = LogisticRegression()\n",
    "\n",
    "regr.fit(X_train, y_train)\n",
    "\n",
    "regr.score(X_test, y_test)\n",
    "\n",
    "\n",
    "cf=pd.DataFrame(data=regr.coef_,columns=tmp_x.columns.values)\n",
    "regr.score(X_test, y_test)\n",
    "#Simple logistic regression allow me to get 0,74 accuracy"
   ]
  },
  {
   "cell_type": "code",
   "execution_count": 108,
   "metadata": {},
   "outputs": [],
   "source": [
    "#Creating summary of Logistic Regression\n",
    "import sklearn.metrics as metrics\n",
    "def regression_results(y_true, y_pred):\n",
    "    explained_variance=metrics.explained_variance_score(y_true, y_pred)\n",
    "    mean_absolute_error=metrics.mean_absolute_error(y_true, y_pred) \n",
    "    mse=metrics.mean_squared_error(y_true, y_pred) \n",
    "    mean_squared_log_error=metrics.mean_squared_log_error(y_true, y_pred)\n",
    "    median_absolute_error=metrics.median_absolute_error(y_true, y_pred)\n",
    "    r2=metrics.r2_score(y_true, y_pred)\n",
    "\n",
    "    print('explained_variance: ', round(explained_variance,4))    \n",
    "    print('mean_squared_log_error: ', round(mean_squared_log_error,4))\n",
    "    print('r2: ', round(r2,4))\n",
    "    print('MAE: ', round(mean_absolute_error,4))\n",
    "    print('MSE: ', round(mse,4))\n",
    "    print('RMSE: ', round(np.sqrt(mse),4))\n",
    "\n",
    " "
   ]
  },
  {
   "cell_type": "code",
   "execution_count": 160,
   "metadata": {},
   "outputs": [
    {
     "name": "stdout",
     "output_type": "stream",
     "text": [
      "explained_variance:  -0.0198\n",
      "mean_squared_log_error:  0.1237\n",
      "r2:  -0.03\n",
      "MAE:  0.2575\n",
      "MSE:  0.2575\n",
      "RMSE:  0.5074\n"
     ]
    }
   ],
   "source": [
    "regression_results(y_test, regr.predict(X_test))"
   ]
  },
  {
   "cell_type": "code",
   "execution_count": 209,
   "metadata": {},
   "outputs": [
    {
     "name": "stdout",
     "output_type": "stream",
     "text": [
      "                            OLS Regression Results                            \n",
      "==============================================================================\n",
      "Dep. Variable:            Transported   R-squared:                       0.260\n",
      "Model:                            OLS   Adj. R-squared:                  0.258\n",
      "Method:                 Least Squares   F-statistic:                     152.2\n",
      "Date:                Mon, 05 Dec 2022   Prob (F-statistic):               0.00\n",
      "Time:                        16:51:06   Log-Likelihood:                -4500.7\n",
      "No. Observations:                7823   AIC:                             9039.\n",
      "Df Residuals:                    7804   BIC:                             9172.\n",
      "Df Model:                          18                                         \n",
      "Covariance Type:            nonrobust                                         \n",
      "==============================================================================\n",
      "                 coef    std err          t      P>|t|      [0.025      0.975]\n",
      "------------------------------------------------------------------------------\n",
      "const          0.5024      0.005    103.175      0.000       0.493       0.512\n",
      "x1             0.1959      0.006     32.864      0.000       0.184       0.208\n",
      "x2            -0.0347      0.005     -6.714      0.000      -0.045      -0.025\n",
      "x3            -0.0085      0.005     -1.727      0.084      -0.018       0.001\n",
      "x4            -0.0575      0.006     -9.579      0.000      -0.069      -0.046\n",
      "x5            -0.0051      0.010     -0.523      0.601      -0.024       0.014\n",
      "x6             0.0046      0.005      0.923      0.356      -0.005       0.014\n",
      "x7             0.0243      0.013      1.942      0.052      -0.000       0.049\n",
      "x8         -3.764e-05      0.005     -0.007      0.994      -0.010       0.010\n",
      "x9             0.0428      0.006      7.096      0.000       0.031       0.055\n",
      "x10            0.0148      0.003      4.634      0.000       0.009       0.021\n",
      "x11            0.0428      0.006      7.096      0.000       0.031       0.055\n",
      "x12            0.0148      0.003      4.634      0.000       0.009       0.021\n",
      "x13            0.0420      0.005      8.586      0.000       0.032       0.052\n",
      "x14            0.0267      0.009      2.838      0.005       0.008       0.045\n",
      "x15            0.0356      0.009      3.860      0.000       0.018       0.054\n",
      "x16            0.0013      0.009      0.152      0.879      -0.016       0.019\n",
      "x17           -0.0098      0.012     -0.836      0.403      -0.033       0.013\n",
      "x18            0.0088      0.021      0.426      0.670      -0.032       0.049\n",
      "x19           -0.0073      0.020     -0.365      0.715      -0.046       0.032\n",
      "x20           -0.0025      0.005     -0.536      0.592      -0.012       0.007\n",
      "==============================================================================\n",
      "Omnibus:                     1751.753   Durbin-Watson:                   1.999\n",
      "Prob(Omnibus):                  0.000   Jarque-Bera (JB):              430.045\n",
      "Skew:                           0.296   Prob(JB):                     4.14e-94\n",
      "Kurtosis:                       2.015   Cond. No.                     5.31e+16\n",
      "==============================================================================\n",
      "\n",
      "Notes:\n",
      "[1] Standard Errors assume that the covariance matrix of the errors is correctly specified.\n",
      "[2] The smallest eigenvalue is 1.07e-29. This might indicate that there are\n",
      "strong multicollinearity problems or that the design matrix is singular.\n"
     ]
    }
   ],
   "source": [
    "# looking for p-values\n",
    "import statsmodels.api as sm\n",
    "from scipy import stats\n",
    "\n",
    "scaled_features_df = pd.DataFrame(scaled_features, index=df.index, columns=df.columns)\n",
    "\n",
    "X2 = sm.add_constant(X_train)\n",
    "est = sm.OLS(y_train, X2)\n",
    "est2 = est.fit()\n",
    "print(est2.summary())\n",
    "# I could remove features 'Groups',  later mayby sexW\n"
   ]
  },
  {
   "cell_type": "code",
   "execution_count": 214,
   "metadata": {},
   "outputs": [
    {
     "name": "stdout",
     "output_type": "stream",
     "text": [
      "                            OLS Regression Results                            \n",
      "==============================================================================\n",
      "Dep. Variable:            Transported   R-squared:                       0.260\n",
      "Model:                            OLS   Adj. R-squared:                  0.258\n",
      "Method:                 Least Squares   F-statistic:                     152.2\n",
      "Date:                Mon, 05 Dec 2022   Prob (F-statistic):               0.00\n",
      "Time:                        16:58:00   Log-Likelihood:                -4500.7\n",
      "No. Observations:                7823   AIC:                             9039.\n",
      "Df Residuals:                    7804   BIC:                             9172.\n",
      "Df Model:                          18                                         \n",
      "Covariance Type:            nonrobust                                         \n",
      "=============================================================================================\n",
      "                                coef    std err          t      P>|t|      [0.025      0.975]\n",
      "---------------------------------------------------------------------------------------------\n",
      "const                         0.5024      0.005    103.175      0.000       0.493       0.512\n",
      "CryoSleep                     0.1959      0.006     32.864      0.000       0.184       0.208\n",
      "Age                          -0.0347      0.005     -6.714      0.000      -0.045      -0.025\n",
      "VIP                          -0.0085      0.005     -1.727      0.084      -0.018       0.001\n",
      "Expenses                     -0.0575      0.006     -9.579      0.000      -0.069      -0.046\n",
      "Group                        -0.0051      0.010     -0.523      0.601      -0.024       0.014\n",
      "Number                        0.0046      0.005      0.923      0.356      -0.005       0.014\n",
      "NumberC                       0.0243      0.013      1.942      0.052      -0.000       0.049\n",
      "SexW                      -3.764e-05      0.005     -0.007      0.994      -0.010       0.010\n",
      "HomePlanet_Europa             0.0428      0.006      7.096      0.000       0.031       0.055\n",
      "HomePlanet_Mars               0.0148      0.003      4.634      0.000       0.009       0.021\n",
      "Destination_PSO J318.5-22     0.0428      0.006      7.096      0.000       0.031       0.055\n",
      "Destination_TRAPPIST-1e       0.0148      0.003      4.634      0.000       0.009       0.021\n",
      "SideC_S                       0.0420      0.005      8.586      0.000       0.032       0.052\n",
      "DeckC_B                       0.0267      0.009      2.838      0.005       0.008       0.045\n",
      "DeckC_C                       0.0356      0.009      3.860      0.000       0.018       0.054\n",
      "DeckC_D                       0.0013      0.009      0.152      0.879      -0.016       0.019\n",
      "DeckC_E                      -0.0098      0.012     -0.836      0.403      -0.033       0.013\n",
      "DeckC_F                       0.0088      0.021      0.426      0.670      -0.032       0.049\n",
      "DeckC_G                      -0.0073      0.020     -0.365      0.715      -0.046       0.032\n",
      "DeckC_T                      -0.0025      0.005     -0.536      0.592      -0.012       0.007\n",
      "==============================================================================\n",
      "Omnibus:                     1751.753   Durbin-Watson:                   1.999\n",
      "Prob(Omnibus):                  0.000   Jarque-Bera (JB):              430.045\n",
      "Skew:                           0.296   Prob(JB):                     4.14e-94\n",
      "Kurtosis:                       2.015   Cond. No.                     5.31e+16\n",
      "==============================================================================\n",
      "\n",
      "Notes:\n",
      "[1] Standard Errors assume that the covariance matrix of the errors is correctly specified.\n",
      "[2] The smallest eigenvalue is 1.07e-29. This might indicate that there are\n",
      "strong multicollinearity problems or that the design matrix is singular.\n"
     ]
    }
   ],
   "source": [
    "# looking for p-values\n",
    "import statsmodels.api as sm\n",
    "from scipy import stats\n",
    "\n",
    "x_scaled_indeces = pd.DataFrame(X_train, index=y_train.index, columns=tmp_x.columns)\n",
    "\n",
    "X2 = sm.add_constant(x_scaled_indeces)\n",
    "est = sm.OLS(y_train, X2)\n",
    "est2 = est.fit()\n",
    "print(est2.summary())\n",
    "# I could remove features 'Groups',  later mayby sexW"
   ]
  }
 ],
 "metadata": {
  "kernelspec": {
   "display_name": "Python 3.9.12 ('base')",
   "language": "python",
   "name": "python3"
  },
  "language_info": {
   "codemirror_mode": {
    "name": "ipython",
    "version": 3
   },
   "file_extension": ".py",
   "mimetype": "text/x-python",
   "name": "python",
   "nbconvert_exporter": "python",
   "pygments_lexer": "ipython3",
   "version": "3.9.12"
  },
  "orig_nbformat": 4,
  "vscode": {
   "interpreter": {
    "hash": "ad2bdc8ecc057115af97d19610ffacc2b4e99fae6737bb82f5d7fb13d2f2c186"
   }
  }
 },
 "nbformat": 4,
 "nbformat_minor": 2
}
